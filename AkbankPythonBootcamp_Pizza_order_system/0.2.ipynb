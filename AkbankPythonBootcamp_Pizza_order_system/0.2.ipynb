{
 "cells": [
  {
   "cell_type": "code",
   "execution_count": 19,
   "id": "6584bcab",
   "metadata": {},
   "outputs": [],
   "source": [
    "import csv\n",
    "import datetime"
   ]
  },
  {
   "cell_type": "code",
   "execution_count": null,
   "id": "a6fdd492",
   "metadata": {},
   "outputs": [],
   "source": [
    "menu = \"* Please Choose a Pizza Base: \\n1: Classic \\n2: Margherita \\n3: TurkPizza \\n4: PlainPizza \\n* and sauce of your choice: \\n11: Olives \\n12: Mushrooms \\n13: GoatCheese \\n14: Meat \\n15: Onions \\n16: Corn \\n* Thank you!\"\n",
    "\n",
    "with open(\"Menu.txt\", \"w\") as f:\n",
    "    f.write(menu)"
   ]
  },
  {
   "cell_type": "code",
   "execution_count": null,
   "id": "c0b4f10e",
   "metadata": {},
   "outputs": [],
   "source": [
    "class Pizza:\n",
    "    def __init__(self, description, cost):\n",
    "        self.description = description\n",
    "        self.cost = cost\n",
    "    \n",
    "    def get_description(self):\n",
    "        return self.description\n",
    "    \n",
    "    def get_cost(self):\n",
    "        return self.cost"
   ]
  },
  {
   "cell_type": "code",
   "execution_count": null,
   "id": "8cfa0302",
   "metadata": {},
   "outputs": [],
   "source": [
    "class ClassicPizza(Pizza):\n",
    "    def __init__(self):\n",
    "        description = \"Classic Pizza\"\n",
    "        cost = 10.0\n",
    "        super().__init__(description, cost)\n",
    "\n",
    "class MargheritaPizza(Pizza):\n",
    "    def __init__(self):\n",
    "        description = \"Margherita Pizza\"\n",
    "        cost = 12.0\n",
    "        super().__init__(description, cost)\n",
    "\n",
    "class TurkPizza(Pizza):\n",
    "    def __init__(self):\n",
    "        description = \"Turk Pizza\"\n",
    "        cost = 15.0\n",
    "        super().__init__(description, cost)\n",
    "\n",
    "class DominosPizza(Pizza):\n",
    "    def __init__(self):\n",
    "        description = \"Dominos Pizza\"\n",
    "        cost = 18.0\n",
    "        super().__init__(description, cost)"
   ]
  },
  {
   "cell_type": "code",
   "execution_count": null,
   "id": "57de0339",
   "metadata": {},
   "outputs": [],
   "source": [
    "class SauceDecorator(Pizza):\n",
    "    def __init__(self, component):\n",
    "        self.component = component\n",
    "    \n",
    "    def get_cost(self):\n",
    "        return self.component.get_cost() + super().get_cost()\n",
    "\n",
    "    def get_description(self):\n",
    "        return self.component.get_description() + ' ' + super().get_description()"
   ]
  },
  {
   "cell_type": "code",
   "execution_count": null,
   "id": "a18d4066",
   "metadata": {},
   "outputs": [],
   "source": [
    "class Olives(SauceDecorator):\n",
    "    def __init__(self, component):\n",
    "        description = \"with Olives\"\n",
    "        cost = 2.0\n",
    "        super().__init__(component)\n",
    "        self.description = description\n",
    "        self.cost = cost\n",
    "\n",
    "class Mushrooms(SauceDecorator):\n",
    "    def __init__(self, component):\n",
    "        description = \"with Mushrooms\"\n",
    "        cost = 2.5\n",
    "        super().__init__(component)\n",
    "        self.description = description\n",
    "        self.cost = cost\n",
    "\n",
    "class GoatCheese(SauceDecorator):\n",
    "    def __init__(self, component):\n",
    "        description = \"with Goat Cheese\"\n",
    "        cost = 3.0\n",
    "        super().__init__(component)\n",
    "        self.description = description\n",
    "        self.cost = cost\n",
    "\n",
    "class Meat(SauceDecorator):\n",
    "    def __init__(self, component):\n",
    "        description = \"with Meat\"\n",
    "        cost = 4.0\n",
    "        super().__init__(component)\n",
    "        self.description = description\n",
    "        self.cost = cost\n",
    "\n",
    "class Onions(SauceDecorator):\n",
    "    def __init__(self, component):\n",
    "        description = \"with Onions\"\n",
    "        cost = 1.5\n",
    "        super().__init__(component)\n",
    "        self.description = description\n",
    "        self.cost = cost\n",
    "\n",
    "class Corn(SauceDecorator):\n",
    "    def __init__(self, component):\n",
    "        description = \"with Corn\"\n",
    "        cost = 1.5\n",
    "        super().__init__(component)\n",
    "        self.description = description\n",
    "        self.cost = cost"
   ]
  },
  {
   "cell_type": "code",
   "execution_count": null,
   "id": "f9c4cac5",
   "metadata": {},
   "outputs": [],
   "source": [
    "def main():\n",
    "\n",
    "    with open(\"Menu.txt\", \"r\") as menu_file:\n",
    "        print(menu_file.read())       "
   ]
  }
 ],
 "metadata": {
  "kernelspec": {
   "display_name": "Python 3 (ipykernel)",
   "language": "python",
   "name": "python3"
  },
  "language_info": {
   "codemirror_mode": {
    "name": "ipython",
    "version": 3
   },
   "file_extension": ".py",
   "mimetype": "text/x-python",
   "name": "python",
   "nbconvert_exporter": "python",
   "pygments_lexer": "ipython3",
   "version": "3.11.1"
  }
 },
 "nbformat": 4,
 "nbformat_minor": 5
}
