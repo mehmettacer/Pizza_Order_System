{
 "cells": [
  {
   "cell_type": "code",
   "execution_count": null,
   "id": "79780b14",
   "metadata": {},
   "outputs": [
    {
     "name": "stdout",
     "output_type": "stream",
     "text": [
      "Welcome to Pizza Place!\n",
      "Our menu is as follows:\n",
      "Classic: $10\n",
      "Margherita: $12\n",
      "TurkPizza: $14\n",
      "PlainPizza: $16\n",
      "What kind of pizza would you like to order? pepperoni\n",
      "Sorry, we don't have that on our menu.\n"
     ]
    }
   ],
   "source": [
    "import csv\n",
    "\n",
    "# This program is a basic pizza order system that takes input from the user and calculates the total price of the order.\n",
    "# It saves the order data to a CSV file.\n",
    "\n",
    "# Define the menu\n",
    "menu = {\n",
    "    \"Classic\": 10,\n",
    "    \"Margherita\": 12,\n",
    "    \"TurkPizza\": 14,\n",
    "    \"PlainPizza\": 16\n",
    "}\n",
    "\n",
    "# Define the toppings\n",
    "toppings = {\n",
    "    \"mushrooms\": 1,\n",
    "    \"olives\": 1,\n",
    "    \"peppers\": 1,\n",
    "    \"onions\": 1,\n",
    "    \"extra cheese\": 2,\n",
    "    \"bacon\": 2\n",
    "}\n",
    "\n",
    "# Define the base price\n",
    "base_price = 0\n",
    "\n",
    "# Define the toppings list\n",
    "toppings_list = []\n",
    "\n",
    "# Define the order database\n",
    "order_database = \"order_database.csv\"\n",
    "\n",
    "# Welcome the user and display the menu\n",
    "print(\"Welcome to Pizza Place!\")\n",
    "print(\"Our menu is as follows:\")\n",
    "\n",
    "for item in menu:\n",
    "    print(item + \": $\" + str(menu[item]))\n",
    "\n",
    "# Ask the user for their order\n",
    "pizza_choice = input(\"What kind of pizza would you like to order? \")\n",
    "if pizza_choice in menu:\n",
    "    base_price = menu[pizza_choice]\n",
    "else:\n",
    "    print(\"Sorry, we don't have that on our menu.\")\n",
    "    exit()\n",
    "\n",
    "# Ask the user for toppings\n",
    "while True:\n",
    "    topping_choice = input(\"Would you like any toppings? (y/n) \")\n",
    "    if topping_choice == \"y\":\n",
    "        for topping in toppings:\n",
    "            print(topping + \": $\" + str(toppings[topping]))\n",
    "        topping_input = input(\"Which topping would you like? \")\n",
    "        if topping_input in toppings:\n",
    "            toppings_list.append(topping_input)\n",
    "            base_price += toppings[topping_input]\n",
    "        else:\n",
    "            print(\"Sorry, we don't have that topping.\")\n",
    "    else:\n",
    "        break\n",
    "\n",
    "# Display the total price\n",
    "print(\"Your order total is: $\" + str(base_price))\n",
    "\n",
    "# Save the order to the database\n",
    "with open(order_database, mode=\"a\", newline=\"\") as file:\n",
    "    writer = csv.writer(file)\n",
    "    writer.writerow([pizza_choice, toppings_list, base_price])\n",
    "    \n",
    "# Read the orders from the database\n",
    "with open(order_database, mode=\"r\") as file:\n",
    "    reader = csv.reader(file)\n",
    "    for row in reader:\n",
    "        print(row)\n"
   ]
  },
  {
   "cell_type": "code",
   "execution_count": 5,
   "id": "2841fc84",
   "metadata": {},
   "outputs": [
    {
     "data": {
      "text/plain": [
       "'order_database.csv'"
      ]
     },
     "execution_count": 5,
     "metadata": {},
     "output_type": "execute_result"
    }
   ],
   "source": [
    "order_database"
   ]
  },
  {
   "cell_type": "raw",
   "id": "e457173e",
   "metadata": {},
   "source": []
  }
 ],
 "metadata": {
  "kernelspec": {
   "display_name": "Python 3 (ipykernel)",
   "language": "python",
   "name": "python3"
  },
  "language_info": {
   "codemirror_mode": {
    "name": "ipython",
    "version": 3
   },
   "file_extension": ".py",
   "mimetype": "text/x-python",
   "name": "python",
   "nbconvert_exporter": "python",
   "pygments_lexer": "ipython3",
   "version": "3.11.1"
  }
 },
 "nbformat": 4,
 "nbformat_minor": 5
}
