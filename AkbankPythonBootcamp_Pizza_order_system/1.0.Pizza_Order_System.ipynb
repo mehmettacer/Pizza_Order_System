{
 "cells": [
  {
   "cell_type": "code",
   "execution_count": 1,
   "id": "482917ed",
   "metadata": {},
   "outputs": [
    {
     "name": "stdout",
     "output_type": "stream",
     "text": [
      "Hoşgeldiniz, Welcome, Benvenuto! \n",
      "MENU:\n",
      "Classic: $10\n",
      "Margherita: $12\n",
      "TurkPizza: $14\n",
      "PlainPizza: $16\n",
      "Can i take your order per favore? Margherita\n",
      "Would you like any extras? (y/n) n\n",
      "Your order total is: $12.00\n",
      "Date: 03/12/2023 12:02:27\n",
      "Pizza: Classic\n",
      "Extras: [, ]\n",
      "Total price: $10.00\n",
      "\n",
      "Date: 03/12/2023 12:04:38\n",
      "Pizza: Margherita\n",
      "Extras: [, ]\n",
      "Total price: $12.00\n",
      "\n"
     ]
    }
   ],
   "source": [
    "import csv\n",
    "from datetime import datetime\n",
    "\n",
    "menu = { \"Classic\": 10, \"Margherita\": 12, \"TurkPizza\": 14, \"PlainPizza\": 16}\n",
    "\n",
    "extras = { \"Olives\": 1, \"Mushrooms\": 1,  \"GoatCheese\": 3, \"Meat\": 3, \"Onions\": 1, \"Corn\": 2}\n",
    "\n",
    "order_database = \"order_database.csv\"\n",
    "\n",
    "print(\"Hoşgeldiniz, Welcome, Benvenuto! \")\n",
    "print(\"MENU:\")\n",
    "\n",
    "for item in menu:\n",
    "    print(item + \": $\" + str(menu[item]))\n",
    "\n",
    "pizza_choice = input(\"Can i take your order per favore? \")\n",
    "if pizza_choice not in menu:\n",
    "    print(\"Sono triste, we don't have that on our menu.\")\n",
    "    exit()\n",
    "\n",
    "base_price = menu[pizza_choice]\n",
    "\n",
    "extras_list = []\n",
    "while True:\n",
    "    extra_choice = input(\"Would you like any extras? (y/n) \")\n",
    "    if extra_choice == \"y\":\n",
    "        for extra in extras:\n",
    "            print(extra + \": $\" + str(extras[extra]))\n",
    "        extra_input = input(\"Which one would you like? \")\n",
    "        if extra_input in extras:\n",
    "            extras_list.append(extra_input)\n",
    "            base_price += extras[extra_input]\n",
    "        else:\n",
    "            print(\"Sorry, we don't have that.\")\n",
    "    else:\n",
    "        break\n",
    "\n",
    "print(\"Your order total is: ${:.2f}\".format(base_price))\n",
    "\n",
    "# Write the order to the database\n",
    "with open(order_database, mode=\"a\", newline=\"\") as file:\n",
    "    writer = csv.writer(file)\n",
    "    now = datetime.now()\n",
    "    date_time = now.strftime(\"%m/%d/%Y %H:%M:%S\")\n",
    "    writer.writerow([date_time, pizza_choice, extras_list, base_price])\n",
    "\n",
    "# Print the orders in the database\n",
    "with open(order_database, mode=\"r\") as file:\n",
    "    reader = csv.reader(file)\n",
    "    for row in reader:\n",
    "        print(\"Date: \" + row[0])\n",
    "        print(\"Pizza: \" + row[1])\n",
    "        if len(row) >= 3:\n",
    "            print(\"Extras: \" + \", \".join(row[2]))\n",
    "        if len(row) >= 4:\n",
    "            print(\"Total price: ${:.2f}\\n\".format(float(row[3])))\n"
   ]
  },
  {
   "cell_type": "code",
   "execution_count": null,
   "id": "ad3f2a51",
   "metadata": {},
   "outputs": [],
   "source": []
  }
 ],
 "metadata": {
  "kernelspec": {
   "display_name": "Python 3 (ipykernel)",
   "language": "python",
   "name": "python3"
  },
  "language_info": {
   "codemirror_mode": {
    "name": "ipython",
    "version": 3
   },
   "file_extension": ".py",
   "mimetype": "text/x-python",
   "name": "python",
   "nbconvert_exporter": "python",
   "pygments_lexer": "ipython3",
   "version": "3.11.1"
  }
 },
 "nbformat": 4,
 "nbformat_minor": 5
}
